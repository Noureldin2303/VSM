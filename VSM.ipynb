{
 "cells": [
  {
   "attachments": {},
   "cell_type": "markdown",
   "metadata": {},
   "source": [
    "##### Vector Space Model (VSM) is the basis of most Information Retrieval systems.\n",
    "```vue\n",
    "VSM used in finding relevant documents with respect to a given query. In VSM, each document or query is a N-dimensional vector where N is the number of distinct terms over all the documents and queries.The i-th index of a vector contains the score of the i-th term for that vector. \n",
    "\n",
    "    - The Vector Space Model for Information Retrieval represents documents and queries as vectors of weights.\n",
    "    - The weights represent the importance of the terms (aka words, tokens) in the documents and queries.\n",
    "    - Each weight is a measure of the importance of an index term in a document or a query, respectively.\n",
    "    \n",
    "```"
   ]
  },
  {
   "attachments": {},
   "cell_type": "markdown",
   "metadata": {},
   "source": [
    "#### The main score functions are based on: Term-Frequency (tf) and Inverse-Document-Frequency(idf). \n",
    "```vue\n",
    "\n",
    "Term-Frequency and Inverse-Document Frequency – The Term-Frequency (tf_{ij}) is computed with respect to the i-th term and j-th document\n",
    "where $ n_{i, j} are the occurrences of the i-th term in the j-th document. \n",
    "\n",
    "The idea is that if a document has multiple receptions of given terms, it will probably deals with that argument. \n",
    "The Inverse-Document-Frequency (idf_{i}) takes into consideration the i-th terms and all the documents in the collection :  \n",
    "```\n",
    "![image](idf.png)\n",
    "\n",
    "```vue\n",
    "The intuition is that rare terms are more important that common ones : if a term is present only in a document it can mean that term characterizes that document. \n",
    "\n",
    "The final score for the i-th term in the j-th document consists of a simple multiplication Since a document/query contains only a subset of all the distinct terms in the collection, the term frequency can be zero for a big number of terms : this means a sparse vector representation is needed to optimize the space requirements. \n",
    "```"
   ]
  },
  {
   "attachments": {},
   "cell_type": "markdown",
   "metadata": {},
   "source": [
    "### The algorithm steps for VSM are:\n",
    "\n",
    "```vue\n",
    "        1- Collecting and preprocessing documents  \n",
    "        2- Creating a vocabulary of unique terms   \n",
    "        3- Representing each document as a vector \n",
    "        4- Representing each query as a vector\n",
    "        5- Calculating the similarity between each document vector and the query vector\n",
    "        6- Ranking documents based on their similarity to the query.\n",
    "```"
   ]
  },
  {
   "cell_type": "code",
   "execution_count": 38,
   "metadata": {},
   "outputs": [
    {
     "name": "stdout",
     "output_type": "stream",
     "text": [
      "Documents:\n",
      " ['I like apples. I like oranges too?', 'I love apples. I hate doctors', 'An apple a day keeps/ the doctor away', 'Never compare an apple // to an orange', 'I prefer scikit-learn to learn']\n",
      "Queries:\n",
      " ['I hate apples', 'I like oranges', 'I like apples. I like oranges too', 'It was the best time to go to doctor', \"It's wrong to compare an apple to an orange\", 'I would like to learn scikit-learn and pandas']\n"
     ]
    }
   ],
   "source": [
    "# create some documents\n",
    "doc1 = \"I like apples. I like oranges too?\"\n",
    "doc2 = \"I love apples. I hate doctors\"\n",
    "doc3 = \"An apple a day keeps/ the doctor away\"\n",
    "doc4 = \"Never compare an apple // to an orange\"\n",
    "doc5 = \"I prefer scikit-learn to learn\"\n",
    "\n",
    "# create some queries\n",
    "query1 = \"I hate apples\"\n",
    "query2 = \"I like oranges\"\n",
    "query3 = \"I like apples. I like oranges too\"\n",
    "query4 = \"It was the best time to go to doctor\"\n",
    "query5 = \"It's wrong to compare an apple to an orange\"\n",
    "query6 = \"I would like to learn scikit-learn and pandas\"\n",
    "\n",
    "# add all docs to a list\n",
    "documents = [doc1, doc2, doc3, doc4, doc5]\n",
    "print(\"Documents:\\n\",documents)\n",
    "\n",
    "\n",
    "# add all queries to a list\n",
    "queries = [query1, query2, query3, query4, query5, query6]\n",
    "print(\"Queries:\\n\",queries)\n"
   ]
  },
  {
   "cell_type": "code",
   "execution_count": 39,
   "metadata": {},
   "outputs": [],
   "source": [
    "# preprocess documents and queries\n",
    "\n",
    "import re\n",
    "\n",
    "def RemoveStopWords(token):\n",
    "    stop_words = open('StopWords.txt', 'r').read()\n",
    "    stop_words = stop_words.split()\n",
    "    token = re.sub('[^A-Za-z0-9]+', '', token)\n",
    "\n",
    "    if token in stop_words:\n",
    "        return ''\n",
    "\n",
    "    return token\n",
    "\n",
    "def tokenize(document):\n",
    "    tokens = [token.strip() for token in document.split()]\n",
    "    tokens = [RemoveStopWords(token) for token in tokens]\n",
    "    tokens = [token for token in tokens if token != '']\n",
    "    return set(tokens)"
   ]
  },
  {
   "cell_type": "code",
   "execution_count": 40,
   "metadata": {},
   "outputs": [
    {
     "name": "stdout",
     "output_type": "stream",
     "text": [
      "{'learn', 'apple', 'Never', 'doctors', 'keeps', 'love', 'I', 'away', 'apples', 'prefer', 'doctor', 'orange', 'compare', 'day', 'hate', 'oranges', 'like', 'An', 'scikitlearn'}\n"
     ]
    }
   ],
   "source": [
    "# create the vocabulary of unique terms\n",
    "\n",
    "vocabulary = set()\n",
    "for doc in documents:\n",
    "    vocabulary.update(tokenize(doc))\n",
    "\n",
    "# print the vocabulary\n",
    "print(vocabulary)\n"
   ]
  },
  {
   "cell_type": "code",
   "execution_count": 41,
   "metadata": {},
   "outputs": [
    {
     "name": "stdout",
     "output_type": "stream",
     "text": [
      "[{'I', 'like', 'oranges', 'apples'}, {'apples', 'doctors', 'love', 'I', 'hate'}, {'apple', 'doctor', 'keeps', 'away', 'day', 'An'}, {'Never', 'orange', 'compare', 'apple'}, {'I', 'learn', 'scikitlearn', 'prefer'}]\n"
     ]
    }
   ],
   "source": [
    "# Representing each document as a vector\n",
    "documents_vector = [tokenize(doc) for doc in documents]\n",
    "print(documents_vector)\n"
   ]
  },
  {
   "cell_type": "code",
   "execution_count": 42,
   "metadata": {},
   "outputs": [
    {
     "name": "stdout",
     "output_type": "stream",
     "text": [
      "[{'I', 'hate', 'apples'}, {'I', 'like', 'oranges'}, {'I', 'like', 'oranges', 'apples'}, {'It', 'doctor', 'best', 'time'}, {'wrong', 'apple', 'Its', 'orange', 'compare'}, {'learn', 'I', 'like', 'pandas', 'scikitlearn'}]\n"
     ]
    }
   ],
   "source": [
    "# Representing each query as a vector\n",
    "queries_vector = [tokenize(que) for que in queries]\n",
    "print(queries_vector)\n"
   ]
  },
  {
   "attachments": {},
   "cell_type": "markdown",
   "metadata": {},
   "source": [
    "#### Cosine Similarity – \n",
    "```vue\n",
    "In order to compute the similarity between two vectors : a, b (document/query but also document/document) \n",
    "the cosine similarity is used :\n",
    "```\n",
    "    \n",
    "![image](cos.png)"
   ]
  },
  {
   "cell_type": "code",
   "execution_count": 43,
   "metadata": {},
   "outputs": [
    {
     "name": "stdout",
     "output_type": "stream",
     "text": [
      "Query:( 1 ) :  I hate apples\n",
      "Scores: [0.5773502691896258, 0.7745966692414834, 0.0, 0.0, 0.2886751345948129]\n",
      "===========================================\n",
      "Ranking documents for query: 1\n",
      "===========================================\n",
      "Document( 2 ) ==> I love apples. I hate doctors\n",
      "Document( 1 ) ==> I like apples. I like oranges too?\n",
      "Document( 5 ) ==> I prefer scikit-learn to learn\n",
      "Document( 3 ) ==> An apple a day keeps/ the doctor away\n",
      "Document( 4 ) ==> Never compare an apple // to an orange\n",
      "\n",
      "\n",
      "Query:( 2 ) :  I like oranges\n",
      "Scores: [0.8660254037844387, 0.2581988897471611, 0.0, 0.0, 0.2886751345948129]\n",
      "===========================================\n",
      "Ranking documents for query: 2\n",
      "===========================================\n",
      "Document( 1 ) ==> I like apples. I like oranges too?\n",
      "Document( 5 ) ==> I prefer scikit-learn to learn\n",
      "Document( 2 ) ==> I love apples. I hate doctors\n",
      "Document( 3 ) ==> An apple a day keeps/ the doctor away\n",
      "Document( 4 ) ==> Never compare an apple // to an orange\n",
      "\n",
      "\n",
      "Query:( 3 ) :  I like apples. I like oranges too\n",
      "Scores: [1.0, 0.4472135954999579, 0.0, 0.0, 0.25]\n",
      "===========================================\n",
      "Ranking documents for query: 3\n",
      "===========================================\n",
      "Document( 1 ) ==> I like apples. I like oranges too?\n",
      "Document( 2 ) ==> I love apples. I hate doctors\n",
      "Document( 5 ) ==> I prefer scikit-learn to learn\n",
      "Document( 3 ) ==> An apple a day keeps/ the doctor away\n",
      "Document( 4 ) ==> Never compare an apple // to an orange\n",
      "\n",
      "\n",
      "Query:( 4 ) :  It was the best time to go to doctor\n",
      "Scores: [0.0, 0.0, 0.20412414523193154, 0.0, 0.0]\n",
      "===========================================\n",
      "Ranking documents for query: 4\n",
      "===========================================\n",
      "Document( 3 ) ==> An apple a day keeps/ the doctor away\n",
      "Document( 1 ) ==> I like apples. I like oranges too?\n",
      "Document( 2 ) ==> I love apples. I hate doctors\n",
      "Document( 4 ) ==> Never compare an apple // to an orange\n",
      "Document( 5 ) ==> I prefer scikit-learn to learn\n",
      "\n",
      "\n",
      "Query:( 5 ) :  It's wrong to compare an apple to an orange\n",
      "Scores: [0.0, 0.0, 0.18257418583505536, 0.6708203932499369, 0.0]\n",
      "===========================================\n",
      "Ranking documents for query: 5\n",
      "===========================================\n",
      "Document( 4 ) ==> Never compare an apple // to an orange\n",
      "Document( 3 ) ==> An apple a day keeps/ the doctor away\n",
      "Document( 1 ) ==> I like apples. I like oranges too?\n",
      "Document( 2 ) ==> I love apples. I hate doctors\n",
      "Document( 5 ) ==> I prefer scikit-learn to learn\n",
      "\n",
      "\n",
      "Query:( 6 ) :  I would like to learn scikit-learn and pandas\n",
      "Scores: [0.4472135954999579, 0.19999999999999996, 0.0, 0.0, 0.6708203932499369]\n",
      "===========================================\n",
      "Ranking documents for query: 6\n",
      "===========================================\n",
      "Document( 5 ) ==> I prefer scikit-learn to learn\n",
      "Document( 1 ) ==> I like apples. I like oranges too?\n",
      "Document( 2 ) ==> I love apples. I hate doctors\n",
      "Document( 3 ) ==> An apple a day keeps/ the doctor away\n",
      "Document( 4 ) ==> Never compare an apple // to an orange\n",
      "\n",
      "\n"
     ]
    }
   ],
   "source": [
    "#  Rank documents based to similatity between queries terms and documents terms using cosine_similarity\n",
    "\n",
    "import math\n",
    "def cosine_similarity(query, document):\n",
    "    intersection = query.intersection(document)\n",
    "    return len(intersection) / (math.sqrt(len(query)) * math.sqrt(len(document)))\n",
    "\n",
    "for query in queries_vector:\n",
    "    query_index = queries_vector.index(query)\n",
    "    print(\"Query:(\",query_index+1, \") : \", queries[query_index])\n",
    "    scores = [cosine_similarity(query, document) for document in documents_vector]\n",
    "    print(\"Scores:\", scores)\n",
    "    \n",
    "    print(\"===========================================\")\n",
    "    print(\"Ranking documents for query:\", query_index+1)\n",
    "    print(\"===========================================\")\n",
    "    for document_index in sorted(range(len(scores)), key=lambda i: scores[i], reverse=True):\n",
    "        print(\"Document(\", document_index+1, \") ==>\",\n",
    "              documents[document_index])\n",
    "\n",
    "    print(\"\\n\")\n"
   ]
  },
  {
   "cell_type": "code",
   "execution_count": 44,
   "metadata": {},
   "outputs": [
    {
     "name": "stdout",
     "output_type": "stream",
     "text": [
      "Query:( 1 ) :  I hate apples\n",
      "Scores: [2, 3, 0, 0, 1]\n",
      "===========================================\n",
      "Ranking documents for query: 1\n",
      "===========================================\n",
      "Document( 2 ) ==> I love apples. I hate doctors\n",
      "Document( 1 ) ==> I like apples. I like oranges too?\n",
      "Document( 5 ) ==> I prefer scikit-learn to learn\n",
      "Document( 3 ) ==> An apple a day keeps/ the doctor away\n",
      "Document( 4 ) ==> Never compare an apple // to an orange\n",
      "\n",
      "\n",
      "Query:( 2 ) :  I like oranges\n",
      "Scores: [3, 1, 0, 0, 1]\n",
      "===========================================\n",
      "Ranking documents for query: 2\n",
      "===========================================\n",
      "Document( 1 ) ==> I like apples. I like oranges too?\n",
      "Document( 2 ) ==> I love apples. I hate doctors\n",
      "Document( 5 ) ==> I prefer scikit-learn to learn\n",
      "Document( 3 ) ==> An apple a day keeps/ the doctor away\n",
      "Document( 4 ) ==> Never compare an apple // to an orange\n",
      "\n",
      "\n",
      "Query:( 3 ) :  I like apples. I like oranges too\n",
      "Scores: [4, 2, 0, 0, 1]\n",
      "===========================================\n",
      "Ranking documents for query: 3\n",
      "===========================================\n",
      "Document( 1 ) ==> I like apples. I like oranges too?\n",
      "Document( 2 ) ==> I love apples. I hate doctors\n",
      "Document( 5 ) ==> I prefer scikit-learn to learn\n",
      "Document( 3 ) ==> An apple a day keeps/ the doctor away\n",
      "Document( 4 ) ==> Never compare an apple // to an orange\n",
      "\n",
      "\n",
      "Query:( 4 ) :  It was the best time to go to doctor\n",
      "Scores: [0, 0, 1, 0, 0]\n",
      "===========================================\n",
      "Ranking documents for query: 4\n",
      "===========================================\n",
      "Document( 3 ) ==> An apple a day keeps/ the doctor away\n",
      "Document( 1 ) ==> I like apples. I like oranges too?\n",
      "Document( 2 ) ==> I love apples. I hate doctors\n",
      "Document( 4 ) ==> Never compare an apple // to an orange\n",
      "Document( 5 ) ==> I prefer scikit-learn to learn\n",
      "\n",
      "\n",
      "Query:( 5 ) :  It's wrong to compare an apple to an orange\n",
      "Scores: [0, 0, 1, 3, 0]\n",
      "===========================================\n",
      "Ranking documents for query: 5\n",
      "===========================================\n",
      "Document( 4 ) ==> Never compare an apple // to an orange\n",
      "Document( 3 ) ==> An apple a day keeps/ the doctor away\n",
      "Document( 1 ) ==> I like apples. I like oranges too?\n",
      "Document( 2 ) ==> I love apples. I hate doctors\n",
      "Document( 5 ) ==> I prefer scikit-learn to learn\n",
      "\n",
      "\n",
      "Query:( 6 ) :  I would like to learn scikit-learn and pandas\n",
      "Scores: [2, 1, 0, 0, 3]\n",
      "===========================================\n",
      "Ranking documents for query: 6\n",
      "===========================================\n",
      "Document( 5 ) ==> I prefer scikit-learn to learn\n",
      "Document( 1 ) ==> I like apples. I like oranges too?\n",
      "Document( 2 ) ==> I love apples. I hate doctors\n",
      "Document( 3 ) ==> An apple a day keeps/ the doctor away\n",
      "Document( 4 ) ==> Never compare an apple // to an orange\n",
      "\n",
      "\n"
     ]
    }
   ],
   "source": [
    "# Another way to rank documents based to similatity between queries terms and documents terms using cosine_similarity\n",
    "\n",
    "def rank_documents(query, documents):\n",
    "    scores = [len(query.intersection(document)) for document in documents]\n",
    "    return scores\n",
    "\n",
    "for query in queries_vector:\n",
    "    query_index = queries_vector.index(query)\n",
    "    print(\"Query:(\",query_index+1, \") : \", queries[query_index])\n",
    "    scores = rank_documents(query, documents_vector)\n",
    "    print(\"Scores:\", scores)\n",
    "\n",
    "    print(\"===========================================\")\n",
    "    print(\"Ranking documents for query:\",query_index+1)\n",
    "    print(\"===========================================\")\n",
    "    for document_index in sorted(range(len(scores)), key=lambda i: scores[i], reverse=True):\n",
    "        print(\"Document(\", document_index+1, \") ==>\", documents[document_index])\n",
    "\n",
    "    print(\"\\n\")\n",
    "    "
   ]
  }
 ],
 "metadata": {
  "kernelspec": {
   "display_name": "Python 3",
   "language": "python",
   "name": "python3"
  },
  "language_info": {
   "codemirror_mode": {
    "name": "ipython",
    "version": 3
   },
   "file_extension": ".py",
   "mimetype": "text/x-python",
   "name": "python",
   "nbconvert_exporter": "python",
   "pygments_lexer": "ipython3",
   "version": "3.11.2"
  },
  "orig_nbformat": 4
 },
 "nbformat": 4,
 "nbformat_minor": 2
}
